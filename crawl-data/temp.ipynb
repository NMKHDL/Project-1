{
 "cells": [
  {
   "cell_type": "code",
   "execution_count": null,
   "metadata": {},
   "outputs": [],
   "source": [
    "import threading\n",
    "import time\n",
    "\n",
    "\n",
    "idList = [0,1,2,3,4,5,6,7,8,9,10,11]\n",
    "\n",
    "def getHistoricalData(coinID):\n",
    "    for i in range(0, 10):\n",
    "        time.sleep(1)\n",
    "        print(coinID, ' -> i: ', i)\n",
    "threadList = []\n",
    "\n",
    "def getBatchList(list_dataToBatch, nElemPerBatch):\n",
    "    batchList = []\n",
    "    \n",
    "    filled = 0\n",
    "    nElem = len(list_dataToBatch)\n",
    "    if nElem % nElemPerBatch != 0:\n",
    "        batchList.append(list_dataToBatch[0 : nElem % nElemPerBatch])\n",
    "        filled = nElem % nElemPerBatch\n",
    "\n",
    "    for i in range(0, nElem - filled, nElemPerBatch):\n",
    "        batchList.append(list_dataToBatch[\n",
    "            filled + i : \n",
    "            filled + i + nElemPerBatch\n",
    "        ])\n",
    "    return batchList\n",
    "\n",
    "for batch in getBatchList(idList, 7):\n",
    "    threadBatch = []\n",
    "    for i in batch:\n",
    "        t = threading.Thread(target=getHistoricalData, args=(i, ))\n",
    "        threadBatch.insert(0, t)\n",
    "        threadBatch[0].start()\n",
    "    for i in range(0, len(threadBatch)):\n",
    "        threadBatch[i].join()"
   ]
  },
  {
   "cell_type": "code",
   "execution_count": null,
   "metadata": {},
   "outputs": [],
   "source": [
    "# url = 'https://api.coinmarketcap.com/data-api/v3/cryptocurrency/historical'\n",
    "\n",
    "# historicalDataPath = f'{dataPath}/historical-data'\n",
    "\n",
    "# def getHistoricalData(coinID, year):\n",
    "#         for i in range(1, 13):\n",
    "#             str_timeStart = f'{year}-{0 if i < 10 else \"\"}{i}-01 00:00:00'\n",
    "#             str_timeEnd = f'{year}-{0 if i + 1 < 10 else \"\"}{i + 1}-01 00:00:00'\n",
    "#             if i == 12:\n",
    "#                 str_timeEnd = f'{year + 1}-01-01 00:00:00'\n",
    "#             str_timeEnd = addDayToDateString(str_timeEnd, -1, datetime_format)\n",
    "\n",
    "#             timeStart = datetimeStringToUTCTimestamp(str_timeStart, datetime_format)\n",
    "#             timeEnd = datetimeStringToUTCTimestamp(str_timeEnd, datetime_format)\n",
    "            \n",
    "#             filename = f'{str_timeStart}.json'\n",
    "#             coinIDPath = f'{historicalDataPath}/coin-id-{id}'\n",
    "#             createPathIfNotExist(coinIDPath)\n",
    "#             filePath = f\"{coinIDPath}/{filename.split(' ')[0]}.json\"\n",
    "\n",
    "#             parameters = {\n",
    "#                 'id' : coinID,\n",
    "#                 'convertId' : 2781,\n",
    "#                 'timeStart' : timeStart,\n",
    "#                 'timeEnd' : timeEnd\n",
    "#             }\n",
    "            \n",
    "#             response = getData(url, headers, parameters)\n",
    "#             if response['status_code'] == 200:\n",
    "#                 writeDictToJSONFile(\n",
    "#                     filePath,\n",
    "#                     response['json_data']['data']\n",
    "#                 )\n",
    "\n",
    "#                 print(\n",
    "#                     str_timeStart.split(' ')[0], 'to', \n",
    "#                     str_timeEnd.split(' ')[0], ':',\n",
    "#                     filePath\n",
    "#                 )\n",
    "#             else:\n",
    "#                 status_code = response['status_code']\n",
    "#                 message = http_status_code[status_code] if status_code in http_status_code.keys() else 'Unknown'\n",
    "#                 print(f\"{status_code} : {message}\")\n",
    "\n",
    "# nIDPerBatch = 5\n",
    "# idBatchList = getBatchList(idList, nIDPerBatch)\n",
    "\n",
    "# for idBatch in idBatchList:\n",
    "#     threadBatch = []\n",
    "#     for id in idBatch:\n",
    "#         t = threading.Thread(target=getHistoricalData, args=(id, 2021, ))\n",
    "#         threadBatch.insert(0, t)\n",
    "#         threadBatch[0].start()\n",
    "#     for i in range(0, len(threadBatch)):\n",
    "#         threadBatch[i].join()\n",
    "\n",
    "# # for id in idList:\n",
    "# #     # if id < 5214:\n",
    "# #     #     continue\n",
    "# #     t = threading.Thread(target=getHistoricalData, args=(id, ))\n",
    "# #     threadList.insert(0, t)\n",
    "# #     threadList[0].start()\n",
    "\n",
    "# # for i in range(0, len(threadList)):\n",
    "# #     threadList[i].join()"
   ]
  },
  {
   "cell_type": "code",
   "execution_count": 6,
   "metadata": {},
   "outputs": [
    {
     "name": "stdout",
     "output_type": "stream",
     "text": [
      "10\n",
      "9\n",
      "8\n",
      "7\n",
      "6\n",
      "5\n",
      "4\n",
      "3\n",
      "2\n",
      "1\n"
     ]
    }
   ],
   "source": [
    "for t in list(range(10, 0, -1)):\n",
    "    print(t)"
   ]
  },
  {
   "cell_type": "code",
   "execution_count": null,
   "metadata": {},
   "outputs": [],
   "source": []
  }
 ],
 "metadata": {
  "kernelspec": {
   "display_name": "Python 3.10.8 64-bit",
   "language": "python",
   "name": "python3"
  },
  "language_info": {
   "codemirror_mode": {
    "name": "ipython",
    "version": 3
   },
   "file_extension": ".py",
   "mimetype": "text/x-python",
   "name": "python",
   "nbconvert_exporter": "python",
   "pygments_lexer": "ipython3",
   "version": "3.10.8"
  },
  "orig_nbformat": 4,
  "vscode": {
   "interpreter": {
    "hash": "aee8b7b246df8f9039afb4144a1f6fd8d2ca17a180786b69acc140d282b71a49"
   }
  }
 },
 "nbformat": 4,
 "nbformat_minor": 2
}
